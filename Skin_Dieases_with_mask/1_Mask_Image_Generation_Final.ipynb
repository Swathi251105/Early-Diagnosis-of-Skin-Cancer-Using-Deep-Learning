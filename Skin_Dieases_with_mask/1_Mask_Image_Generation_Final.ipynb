{
 "cells": [
  {
   "cell_type": "markdown",
   "metadata": {},
   "source": [
    "# MASK IMAGE GENERATION "
   ]
  },
  {
   "cell_type": "code",
   "execution_count": 1,
   "metadata": {},
   "outputs": [],
   "source": [
    "import warnings\n",
    "warnings.filterwarnings(\"ignore\")"
   ]
  },
  {
   "cell_type": "code",
   "execution_count": 2,
   "metadata": {},
   "outputs": [],
   "source": [
    "import os\n",
    "import shutil #recursively moves a file from src to dest and vice versa\n",
    "import cv2  #resize image , GF\n",
    "import numpy as np\n",
    "import pandas as pd\n",
    "%matplotlib inline\n",
    "import matplotlib.pyplot as plt\n",
    "from PIL import Image"
   ]
  },
  {
   "cell_type": "code",
   "execution_count": 3,
   "metadata": {},
   "outputs": [],
   "source": [
    "from skimage.filters import sobel\n",
    "from scipy import ndimage as ndi\n",
    "from skimage import io, color\n",
    "from skimage.feature import canny"
   ]
  },
  {
   "cell_type": "code",
   "execution_count": 4,
   "metadata": {},
   "outputs": [],
   "source": [
    "def create_dir(in_dir, out_dir, gdir_1):\n",
    "    for label in os.listdir(path= in_dir):\n",
    "        if not os.path.exists(os.path.join(out_dir, gdir_1, label)):\n",
    "            os.makedirs(os.path.join(out_dir, gdir_1, label))\n",
    "            \n",
    "        "
   ]
  },
  {
   "cell_type": "code",
   "execution_count": 5,
   "metadata": {},
   "outputs": [],
   "source": [
    "def mask_image_process(in_dir = 'input', out_dir= 'processed'):\n",
    "    gdir_1 = 'mask'\n",
    "        \n",
    "    create_dir(in_dir, out_dir, gdir_1)\n",
    "    count = 0\n",
    "    for label in os.listdir(path= in_dir):\n",
    "        print('Processing started for : ',label)\n",
    "        for image_name in os.listdir(os.path.join(in_dir,label)):\n",
    "            if not image_name.endswith('.db'):\n",
    "                in_path = os.path.join(in_dir, label, image_name)\n",
    "                out_path_1 = os.path.join(out_dir, gdir_1, label, image_name) #path of mask image\n",
    "               \n",
    "                #########\n",
    "                cv_img=cv2.imread(in_path,1)\n",
    "                cv_img=cv2.cvtColor(cv_img, cv2.COLOR_BGR2GRAY)\n",
    "                ret, bw_img = cv2.threshold(cv_img,120,220,cv2.THRESH_BINARY)\n",
    "                x = np.where(bw_img == 0, 250,bw_img)\n",
    "                y =  np.where(x == 255, 0,x)\n",
    "                z = sobel(bw_img)\n",
    "                mask_image = ndi.binary_fill_holes(z)             \n",
    "                mimg = Image.fromarray(np.uint8(mask_image * 255))\n",
    "                \n",
    "                mimg.save(out_path_1)\n",
    "                \n",
    "                #########\n",
    "                \n",
    "               \n",
    "                count += 1\n",
    "                #if count >= 100:\n",
    "                #   break\n",
    "                \n",
    "        \n",
    "        print('------ Processing done ------')"
   ]
  },
  {
   "cell_type": "code",
   "execution_count": 6,
   "metadata": {},
   "outputs": [
    {
     "name": "stdout",
     "output_type": "stream",
     "text": [
      "Processing started for :  benign\n",
      "------ Processing done ------\n",
      "Processing started for :  melanoma\n",
      "------ Processing done ------\n"
     ]
    }
   ],
   "source": [
    "mask_image_process()"
   ]
  },
  {
   "cell_type": "markdown",
   "metadata": {},
   "source": [
    "# Mask and Original Images file paths"
   ]
  },
  {
   "cell_type": "code",
   "execution_count": 7,
   "metadata": {},
   "outputs": [],
   "source": [
    "from skimage.io import imread, imshow"
   ]
  },
  {
   "cell_type": "code",
   "execution_count": 8,
   "metadata": {},
   "outputs": [],
   "source": [
    "mask_1_path = \"processed/mask/benign/\"\n",
    "mask_2_path = \"processed/mask/melanoma/\"\n",
    "original_1_input_path = \"input/benign/\"\n",
    "original_2_input_path = \"input/melanoma/\"\n",
    "extracted_1_images_path = \"extracted_images/benign/\"\n",
    "extracted_2_images_path = \"extracted_images/melanoma/\""
   ]
  },
  {
   "cell_type": "code",
   "execution_count": 9,
   "metadata": {},
   "outputs": [],
   "source": [
    "benign_masks = os.listdir(mask_1_path)\n",
    "melanoma_masks = os.listdir(mask_2_path)\n",
    "original_benign = os.listdir(original_1_input_path)\n",
    "original_melanoma = os.listdir(original_2_input_path)"
   ]
  },
  {
   "cell_type": "code",
   "execution_count": 10,
   "metadata": {},
   "outputs": [
    {
     "name": "stdout",
     "output_type": "stream",
     "text": [
      "262\n",
      "476\n",
      "262\n",
      "477\n"
     ]
    }
   ],
   "source": [
    "print(len(benign_masks))\n",
    "print(len(melanoma_masks))\n",
    "print(len(original_benign))\n",
    "print(len(original_melanoma))"
   ]
  },
  {
   "cell_type": "code",
   "execution_count": 12,
   "metadata": {},
   "outputs": [],
   "source": [
    "for i in range(0,len(benign_masks)):\n",
    "    input_image = os.path.join(original_1_input_path, original_benign[i])\n",
    "    mask_image = os.path.join(mask_1_path, original_benign[i])\n",
    "    output_image = os.path.join(extracted_1_images_path, original_benign[i])\n",
    "    img = imread(input_image,0)\n",
    "    mask = imread(mask_image)\n",
    "    ret, mask = cv2.threshold(mask, 127, 255, cv2.THRESH_BINARY)\n",
    "    extracted = cv2.bitwise_or(img, img, mask=mask)\n",
    "    extracted = cv2.cvtColor(extracted, cv2.COLOR_BGR2RGB)\n",
    "    cv2.imwrite(output_image, extracted)"
   ]
  },
  {
   "cell_type": "code",
   "execution_count": 13,
   "metadata": {},
   "outputs": [],
   "source": [
    "for i in range(0,len(melanoma_masks)):\n",
    "    input_image = os.path.join(original_2_input_path, original_melanoma[i])\n",
    "    mask_image = os.path.join(mask_2_path, original_melanoma[i])\n",
    "    output_image = os.path.join(extracted_2_images_path, original_melanoma[i])\n",
    "    img = imread(input_image)\n",
    "    mask = imread(mask_image)\n",
    "    ret, mask = cv2.threshold(mask, 127, 255, cv2.THRESH_BINARY)\n",
    "    extracted = cv2.bitwise_or(img, img, mask=mask)\n",
    "    extracted = cv2.cvtColor(extracted, cv2.COLOR_BGR2RGB)\n",
    "    cv2.imwrite(output_image, extracted)"
   ]
  },
  {
   "cell_type": "code",
   "execution_count": null,
   "metadata": {},
   "outputs": [],
   "source": []
  },
  {
   "cell_type": "code",
   "execution_count": null,
   "metadata": {},
   "outputs": [],
   "source": []
  },
  {
   "cell_type": "code",
   "execution_count": null,
   "metadata": {},
   "outputs": [],
   "source": []
  },
  {
   "cell_type": "code",
   "execution_count": null,
   "metadata": {},
   "outputs": [],
   "source": []
  },
  {
   "cell_type": "code",
   "execution_count": null,
   "metadata": {},
   "outputs": [],
   "source": []
  },
  {
   "cell_type": "code",
   "execution_count": null,
   "metadata": {},
   "outputs": [],
   "source": []
  }
 ],
 "metadata": {
  "kernelspec": {
   "display_name": "Python 3",
   "language": "python",
   "name": "python3"
  },
  "language_info": {
   "codemirror_mode": {
    "name": "ipython",
    "version": 3
   },
   "file_extension": ".py",
   "mimetype": "text/x-python",
   "name": "python",
   "nbconvert_exporter": "python",
   "pygments_lexer": "ipython3",
   "version": "3.8.5"
  }
 },
 "nbformat": 4,
 "nbformat_minor": 2
}
